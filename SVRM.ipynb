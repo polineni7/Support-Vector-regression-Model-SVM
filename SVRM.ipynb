{
 "cells": [
  {
   "cell_type": "markdown",
   "id": "selective-afternoon",
   "metadata": {},
   "source": [
    "## Importing Packages"
   ]
  },
  {
   "cell_type": "code",
   "execution_count": 2,
   "id": "sixth-calculator",
   "metadata": {},
   "outputs": [],
   "source": [
    "import numpy as np\n",
    "import matplotlib.pyplot as plt\n",
    "import pandas as pd"
   ]
  },
  {
   "cell_type": "markdown",
   "id": "ancient-meter",
   "metadata": {},
   "source": [
    "## Importing the datasets"
   ]
  },
  {
   "cell_type": "code",
   "execution_count": 3,
   "id": "specialized-ottawa",
   "metadata": {},
   "outputs": [],
   "source": [
    "datasets = pd.read_csv('Position_Salaries.csv')\n",
    "X = datasets.iloc[:, 1:2].values\n",
    "Y = datasets.iloc[:, 2].values\n"
   ]
  },
  {
   "cell_type": "markdown",
   "id": "commercial-insider",
   "metadata": {},
   "source": [
    "### Splitting the dataset into the Training set and Test set\n",
    "\n",
    "### from sklearn.model_selection import train_test_split\n",
    "### X_Train, X_Test, Y_Train, Y_Test = train_test_split(X, Y, test_size = 0.2, random_state = 0)\n"
   ]
  },
  {
   "cell_type": "code",
   "execution_count": 4,
   "id": "sufficient-colorado",
   "metadata": {},
   "outputs": [],
   "source": [
    "Y = Y.reshape(-1,1)"
   ]
  },
  {
   "cell_type": "markdown",
   "id": "compliant-parameter",
   "metadata": {},
   "source": [
    "### Feature Scaling"
   ]
  },
  {
   "cell_type": "code",
   "execution_count": 5,
   "id": "asian-sucking",
   "metadata": {},
   "outputs": [],
   "source": [
    "from sklearn.preprocessing import StandardScaler\n",
    "sc_X = StandardScaler()\n",
    "sc_Y = StandardScaler()\n",
    "X = sc_X.fit_transform(X)\n",
    "Y = sc_Y.fit_transform(Y)\n"
   ]
  },
  {
   "cell_type": "markdown",
   "id": "available-fault",
   "metadata": {},
   "source": [
    "### Fitting the SVR model to the dataset"
   ]
  },
  {
   "cell_type": "code",
   "execution_count": 6,
   "id": "acknowledged-function",
   "metadata": {},
   "outputs": [
    {
     "name": "stderr",
     "output_type": "stream",
     "text": [
      "c:\\users\\henry\\appdata\\local\\programs\\python\\python39\\lib\\site-packages\\sklearn\\utils\\validation.py:63: DataConversionWarning: A column-vector y was passed when a 1d array was expected. Please change the shape of y to (n_samples, ), for example using ravel().\n",
      "  return f(*args, **kwargs)\n"
     ]
    },
    {
     "data": {
      "text/plain": [
       "SVR()"
      ]
     },
     "execution_count": 6,
     "metadata": {},
     "output_type": "execute_result"
    }
   ],
   "source": [
    "from sklearn.svm import SVR\n",
    "regressor = SVR(kernel = 'rbf')\n",
    "regressor.fit(X,Y)"
   ]
  },
  {
   "cell_type": "markdown",
   "id": "meaning-think",
   "metadata": {},
   "source": [
    "### Predicting a new result with the Polynomial Regression \n"
   ]
  },
  {
   "cell_type": "code",
   "execution_count": 7,
   "id": "veterinary-exposure",
   "metadata": {},
   "outputs": [],
   "source": [
    "Y_Pred = sc_Y.inverse_transform(regressor.predict(sc_X.transform(np.array([6.5]).reshape(-1,1))))\n"
   ]
  },
  {
   "cell_type": "markdown",
   "id": "copyrighted-record",
   "metadata": {},
   "source": [
    "### Visualising the Regression results"
   ]
  },
  {
   "cell_type": "code",
   "execution_count": 8,
   "id": "polished-jesus",
   "metadata": {},
   "outputs": [
    {
     "data": {
      "image/png": "[encoded data removed]",
      "text/plain": [
       "<Figure size 432x288 with 1 Axes>"
      ]
     },
     "metadata": {
      "needs_background": "light"
     },
     "output_type": "display_data"
    }
   ],
   "source": [
    "plt.scatter(X,Y, color = 'red')\n",
    "plt.plot(X, regressor.predict(X), color = 'Green')\n",
    "plt.title('Regression Results SVM Sample Model')\n",
    "plt.xlabel('Position level')\n",
    "plt.ylabel('Salary')\n",
    "plt.show()"
   ]
  },
  {
   "cell_type": "code",
   "execution_count": null,
   "id": "willing-yellow",
   "metadata": {},
   "outputs": [],
   "source": []
  }
 ],
 "metadata": {
  "kernelspec": {
   "display_name": "Python 3",
   "language": "python",
   "name": "python3"
  },
  "language_info": {
   "codemirror_mode": {
    "name": "ipython",
    "version": 3
   },
   "file_extension": ".py",
   "mimetype": "text/x-python",
   "name": "python",
   "nbconvert_exporter": "python",
   "pygments_lexer": "ipython3",
   "version": "3.9.1"
  }
 },
 "nbformat": 4,
 "nbformat_minor": 5
}
